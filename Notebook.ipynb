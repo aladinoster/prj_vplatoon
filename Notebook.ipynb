{
 "cells": [
  {
   "cell_type": "code",
   "execution_count": null,
   "metadata": {},
   "outputs": [],
   "source": [
    "import sys; sys.path.append(\"vplatoon\")"
   ]
  },
  {
   "cell_type": "code",
   "execution_count": null,
   "metadata": {},
   "outputs": [],
   "source": [
    "%load_ext autoreload"
   ]
  },
  {
   "cell_type": "code",
   "execution_count": null,
   "metadata": {},
   "outputs": [],
   "source": [
    "autoreload 2"
   ]
  },
  {
   "cell_type": "markdown",
   "metadata": {},
   "source": [
    "# Project Description \n",
    "\n",
    "## Analyzing Platooning Technologies and their benefits for transportation\n",
    "\n",
    "The main objective of this project is to understand a traffic phenomena denominated \"platoon\" and design proper control strategies for a platoon of vehicles in order to optimize the traffic flow and reduce the fuel consumption. \n",
    "\n",
    "<img src=\"assets/img/truck-platooning.jpg\" alt=\"drawing\" width=\"600\"/>\n",
    "\n",
    "In order to do that we are going to make use of the package `vplatoon` that includes some basic models to deploy platooning systems including the implemenation of [`ACC/CACC`](https://en.wikipedia.org/wiki/Adaptive_cruise_control) systems. For more information about the source code of this package please go [here](https://github.com/aladinoster/vplatoon). Over there you will find a folder called `vplatoon` containing all the models in the submodules `carfollow`, `vehicles`, `demand`, `messages` etc. Some of these will be explored along the module and may help you to progress faster in the project.   \n"
   ]
  },
  {
   "cell_type": "code",
   "execution_count": null,
   "metadata": {},
   "outputs": [],
   "source": [
    "# import sys; sys.path.append(\"connectv2x\") # Uncomment in case pip does not work "
   ]
  },
  {
   "cell_type": "markdown",
   "metadata": {
    "papermill": {
     "duration": 0.013152,
     "end_time": "2019-11-26T15:01:36.194135",
     "exception": false,
     "start_time": "2019-11-26T15:01:36.180983",
     "status": "completed"
    },
    "tags": []
   },
   "source": [
    "## Contents and structure \n",
    "\n",
    "* Exploration and modeling of vehicle dynamics and \n",
    "* Basic control systems \n",
    "* Implementation of a platoon via control systems \n",
    "* Compute emissions from trajectories \n",
    "* Understanding side effects of platoon (Stability) \n",
    "\n",
    "Let's begin by importing some plotting libraries that will help us with data visualization"
   ]
  },
  {
   "cell_type": "code",
   "execution_count": null,
   "metadata": {},
   "outputs": [],
   "source": [
    "from bokeh.plotting import show\n",
    "from bokeh.io import output_notebook\n",
    "output_notebook()"
   ]
  },
  {
   "cell_type": "markdown",
   "metadata": {
    "papermill": {
     "duration": 0.013152,
     "end_time": "2019-11-26T15:01:36.194135",
     "exception": false,
     "start_time": "2019-11-26T15:01:36.180983",
     "status": "completed"
    },
    "tags": []
   },
   "source": [
    "## Understanding the basics \n",
    "\n",
    "For this application it is considered the simulation of [microscopic traffic models](https://en.wikipedia.org/wiki/Microscopic_traffic_flow_model) where *longitudinal position* follow a specified behavior defined as a function of  two main components, the *headway space* and the *speed differential*. The *car following* behavior describes the behavior of the vehicle in its longitudinal dynamics while the *lane change* behavior describes the behavior in the lateral position. \n",
    "\n",
    "In order to modify traffic behavior for a condition, the system is modeled via traffic model where V2I messages modify vehicle speed or lateral position   "
   ]
  },
  {
   "cell_type": "markdown",
   "metadata": {},
   "source": [
    "#### Traffic model and the fundamental diagram\n",
    "\n",
    "Before pursuing it is important to understand the value of the fundamental diagram. The fundamental diagram describe the relation ship between ***density*** or concentration of vehicles and the ***flow*** or speed of vehicles. The density is regularly denoted as $\\kappa$ for this scenarios as `K`, in the meanwhile the flow is denoted by `Q`. We are going to consider the fact that the relationship follows a piecewise linear behavior as follows:\n",
    "\n",
    "\n",
    "\\begin{aligned}\n",
    "Q(\\kappa) = \\begin{cases}\n",
    "u\\kappa\\quad 0\\leq\\kappa\\leq \\kappa_c\\\\\n",
    "w\\left(\\kappa_x-\\kappa\\right)\\quad \\kappa_c\\leq\\kappa\\leq \\kappa_x\n",
    "\\end{cases}\n",
    "\\end{aligned}\n",
    "\n",
    "\n",
    "Let's define the number of vehicles and their initial positions, in order to determine the initial position let's find the minimum spacing. For the moment let's consider the following parameters. `W=5`, `K_X=0.2` and `U=20`. Let's trace the fundamental diagram for this case. We will make use of the `FundamentalDiagram` class in the `traffic` submodule"
   ]
  },
  {
   "cell_type": "code",
   "execution_count": null,
   "metadata": {},
   "outputs": [],
   "source": [
    "from vplatoon.traffic import FundamentalDiagram\n",
    "from bokeh.plotting import show\n",
    "\n",
    "f = FundamentalDiagram(w=5,u=25,k_x=0.2)\n",
    "p = f.plot_diagram()\n",
    "show(p)"
   ]
  },
  {
   "cell_type": "markdown",
   "metadata": {},
   "source": [
    "We can easily establish the ***critical density*** which corresponds to the amount of vehicles at which there is maximum flow via"
   ]
  },
  {
   "cell_type": "code",
   "execution_count": null,
   "metadata": {},
   "outputs": [],
   "source": [
    "print(f\"Capacity: {f.C}\")\n",
    "print(f\"Critical density: {f.k_c}\")\n",
    "print(f\"Maximum density: {f.k_x}\")\n",
    "print(f\"Speed limit: {f.u}\")\n",
    "print(f\"Congestion speed: {f.w}\")"
   ]
  },
  {
   "cell_type": "markdown",
   "metadata": {},
   "source": [
    "The critical density represent the minimum tolerable inter-vehicle distance **critical headway space** before vehicles start to decrease their speed. On the other hand when the value of density is maximum, and the flow is 0, the vehicles respect the **minimum headway space** that can be computed from the maximum value of density $\\kappa_x$ via\n",
    "\n",
    "\\begin{aligned}\n",
    "\\kappa_x = \\frac{N}{d} \\approx \\frac{1}{s_0}  \\approx \\frac{1}{l_{\\text{avg}}+s_{\\text{min}}} \n",
    "\\end{aligned}\n",
    "\n",
    "Where $l_{\\text{avg}}$ is the average vehicle length and $s_{text{min}}$ represents the minimum tolerated headway spacing between two vehicles. \n",
    "\n",
    "By computing the case in the fundamental diagram"
   ]
  },
  {
   "cell_type": "code",
   "execution_count": null,
   "metadata": {},
   "outputs": [],
   "source": [
    "print(f\"Minimum headway space: {1/f.k_x}\")"
   ]
  },
  {
   "cell_type": "markdown",
   "metadata": {},
   "source": [
    "**Q1**: Supose a vehicle has an average length of $l_{\\text{avg}}=4$ [m] and the minimum tolerable inter vehicle distance is $s_{\\text{min}}=2.25$[m]. Consider the congestion wave speed $w=6.25$ [m/s] and a free flow speed of $u=25$ [m/s]. Compute and plot the fundamental diagram for this case and find the value of the capacity and minimum headway space:\n",
    "\n",
    "<span style= \"color:blue\">Provide your answers below:</span>"
   ]
  },
  {
   "cell_type": "code",
   "execution_count": null,
   "metadata": {},
   "outputs": [],
   "source": []
  },
  {
   "cell_type": "markdown",
   "metadata": {},
   "source": [
    "#### Platooning behaviors and car following model \n",
    "\n",
    "Keep in mind the constants you have computed `K_X`, `W`, `U`, these parameters although apply for pure [car-following](https://en.wikipedia.org/wiki/Microscopic_traffic_flow_model) they will be useful to construct and understand the behavior of truck platoons. \n",
    "\n",
    "For the sake of clarity let's consider the following figure.\n",
    "\n",
    "<img src=\"assets/img/p2-cavs.png\" alt=\"drawing\" width=\"600\"/>\n",
    "\n",
    "For the sake of clarity, the following corresponds to the notations for variable description in the model. It is considered the vehicle position of a vehicle as $x_n$ and the headway space between a vehicle and its leader as $s_n = x_{n-1}-x_{n}$. The vehicle's speed and acceleration are defined as $v_n$,$a_n$ respectively. The operator $\\Delta v_n = v_{n-1} - v_{n}$ refers to the difference between the leading vehicle and the following one. \n",
    "\n",
    "By introducing newton's law over one of the vehicles we can consider the following force set up and compute the accelertion given by the following expression: \n",
    "\n",
    "$$\n",
    "a_n(t+T) = a_n(t) + T \\frac{{u(t) - Mg\\mu - {\\scriptsize\\frac{1}{2}}\\rho C_d A v^2_n(t)}}{M} = a_n(t) + T g(C_d,v_n, u_n)\n",
    "$$\n",
    "\n",
    "Where $m$ corresponds to the truck mass, $C_d$ the drag coefficient, $A$ the frontal truck area, $\\rho$ is the density of the air.  \n",
    "\n",
    "Each one of the vehicles can follow the dynamics given by the following dynamic equation\n",
    "\n",
    "\\begin{aligned}\n",
    "\\frac{dx}{dt}\\approx \\frac{x_n(t+T) - x_n(t)}{T} \\rightarrow x_n(t+T) &= x_n(t) + v_n(t)T\\\\\n",
    "\\frac{dv}{dt}\\approx \\frac{v_n(t+T) - v_n(t)}{T} \\rightarrow v_n(t+T) &= v_n(t) + a_n(t) T\\\\\n",
    "\\frac{da}{dt}\\approx \\frac{a_n(t+T) - a_n(t)}{T} \\rightarrow a_n(t+T) &= a_n(t) + T g(C_d,v_n,u_n)\\\\\n",
    "\\end{aligned}\n",
    "\n",
    "*To implement the model a `class` object called `PlatoonDyn` has been implemented. The class intends to emulate these equations and keep track of the vehicle evolution. \n",
    "\n",
    "#### Parameters \n",
    "\n",
    "So far parameters in the model have been fixed although random scenarios can be also considered\n",
    "\n",
    "| Parameter     | Value     | Units |\n",
    ":--------------:|:---------:|:------:\n",
    "$$M$$           | 0.5       |       |\n",
    "$$A$$           | 10        | [m$^2$]\n",
    "$$\\rho$$        | 1.3       | [kg/m$^3$]\n",
    "$${C_d}^\\star$$ | 0.5 - 1.5 | \n",
    "$$\\tau$$        | $$\\frac{1}{wk_x}$$ | [s]\n",
    "$$w$$           | $$6.25$$  | [m/s]\n",
    "$$k_x$$         | $$0.16$$  | [veh/km]\n",
    "$$u_i$$         | $$25$$    | [m/s]\n",
    "\n",
    "\n",
    "$\\star$: ${C_d}$ although is presented as parameter is a coefficient that changes according to the intervehicle distance. For the moment we have not considered the model but we will introduce this further in the system. \n",
    "\n",
    "Please follow step by step variable definition for more detail into simulations. Let define in this case the parameters `M`, `A`, `W`,`K_X` and import the class `VehiclePlatoon` from the submodule `vplatoon.carfollow`\n"
   ]
  },
  {
   "cell_type": "markdown",
   "metadata": {},
   "source": [
    "#### Modeling a ACC Closed loop \n",
    "\n",
    "The objective in the upcoming will be to model the following closed loop:\n",
    "\n",
    "<img src=\"assets/img/ctr-acc.png\" alt=\"drawing\" width=\"500\"/>\n",
    "\n",
    "This system is known as a feedback loop where $C(s)$ is denominated the **controller** $G(s)$ is denominated the **process** and the signals $r$, $u$, $y$ are denominated the **reference**, **control** and **output** signals respectively. The symbol in the $r$ signal represents a *step response* meaning the dynamic response of the system when the system changes abruptly from 0 to a particular value. \n",
    "\n",
    "First we are going to simulate this system via simple blocks and then use it to construct a platoon system. Consider just that the approximations of the derivative systems explained in the Platoon behavior can be expressed as *transfer functions* \n",
    "\n",
    "<img src=\"assets/img/acc-det.png\" alt=\"drawing\" width=\"500\"/>\n",
    "\n",
    "$\\tau$ represents the reaction time of the vehicle, $u$ the control signal (applied throttle), $a$ the real accelearation, $v$ the speed of the system. For the moment we are going to select a Proportional Integral Controller. For more details about the controller please see [here](https://fr.wikipedia.org/wiki/Régulateur_PID)"
   ]
  },
  {
   "cell_type": "code",
   "execution_count": null,
   "metadata": {},
   "outputs": [],
   "source": [
    "from vplatoon.vehicles import System,Integrator \n",
    "from vplatoon.pid import PID \n",
    "import numpy as np\n",
    "\n",
    "# Declares each one of the systems\n",
    "g1, g2, g3 = System(), System(), Integrator() # Declaring the system 1/(Tau s + 1) → System and the system 1/s→ Integrator\n",
    "\n",
    "pid = PID(k_p=0.2, k_i=0.015,k_d=0) # PID Controller with initial gains\n",
    "\n",
    "e_v = []\n",
    "r_v = np.concatenate([np.zeros(10),np.concatenate([np.ones(600),0.5*np.ones(600)])]) # Creating reference signal\n",
    "\n",
    "for ct in r_v:\n",
    "    err = ct - g3.x[-1] \n",
    "    e_v.append(err)    \n",
    "    uct = pid(err)\n",
    "    g3(g2(g1(uct)))"
   ]
  },
  {
   "cell_type": "markdown",
   "metadata": {},
   "source": [
    "The foor loop will run over all the samples of $r_v$ and apply each one of the entries to the system. It is possible to check the state of the system by checking the value $x$. Here the sytem allows to query the speed value."
   ]
  },
  {
   "cell_type": "code",
   "execution_count": null,
   "metadata": {},
   "outputs": [],
   "source": [
    "from bokeh.plotting import figure\n",
    "\n",
    "p = figure()\n",
    "p.line(np.arange(len(g3.x)),g3.x, legend_label = \"v\")\n",
    "p.line(np.arange(len(r_v)),r_v,color='red',legend_label = \"r\")\n",
    "p.xaxis.axis_label=\"Time [s]\"\n",
    "p.yaxis.axis_label=\"Speed [m/s]\"\n",
    "p.legend.location = \"top_right\";\n",
    "show(p)"
   ]
  },
  {
   "cell_type": "markdown",
   "metadata": {},
   "source": [
    "The fact that the signal $v$ tries to pursuit the signal $r$ is the nature of the *controlled* system. In the further questions you will explore how this behavior can be changed in terms of the parameters.  "
   ]
  },
  {
   "cell_type": "markdown",
   "metadata": {},
   "source": [
    "**Q2**: Let's consider the same exercise performed before, but now assume that the change in speed reference `r_v` (red signal) is not of value 1 but of value 5 instead. Perform a closed loop simulation and plot the results for the speed. In addition create a list called `u_v` for the signal `uctr`, append the values and plot also the result of this signal \n",
    "\n",
    "<span style= \"color:blue\">Provide your answers below:</span>"
   ]
  },
  {
   "cell_type": "code",
   "execution_count": null,
   "metadata": {},
   "outputs": [],
   "source": []
  },
  {
   "cell_type": "markdown",
   "metadata": {},
   "source": [
    "**Q3**: As you have observed the behavior was apriori pre established via fixed constants of the PID controller in particular `k_p`,`k_i`, `k_d`. For the moment let's fix the value of `k_d=0` and let's modify the value of `k_p` in the interval $[0.2,1]$ and the values of $k_i$ in the interval $[0.015,0.2]$. Select values in these intervals and observe how the dynamical response changes. Trace the behavior for the $v$ in time as well as the value of $u$ in time for different parameters\n",
    "\n",
    "<span style= \"color:blue\">Provide your answers below:</span>"
   ]
  },
  {
   "cell_type": "code",
   "execution_count": null,
   "metadata": {},
   "outputs": [],
   "source": []
  },
  {
   "cell_type": "markdown",
   "metadata": {},
   "source": [
    "#### Towards the modeling of CACC \n",
    "\n",
    "CACC stands for Cooperative ACC or Cooperative Adaptive Cruise Control [(link)](https://en.wikipedia.org/wiki/Cooperative_Adaptive_Cruise_Control). In Cooperative ACC the objective is to regulate the *headway space* between two vehicles. In this case we are going first to deploy the system via essential blocks again. \n",
    "\n",
    "<img src=\"assets/img/cacc-det.png\" alt=\"drawing\" width=\"500\"/>\n",
    "\n",
    "In this case the system will consider an aditional integrator to model the position. In reality what's happening behind the curtains is that the vehicle is receiving a reference in terms of position and then he needs to try to pursuit this reference in time. \n"
   ]
  },
  {
   "cell_type": "code",
   "execution_count": null,
   "metadata": {},
   "outputs": [],
   "source": [
    "g1, g2, g3, g4 = System(), System(), Integrator(), Integrator()\n",
    "\n",
    "# Declares each one of the systems\n",
    "pid = PID(k_p=0.2, k_i=0.015,k_d=0)\n",
    "\n",
    "e_x = []\n",
    "r_x = np.concatenate([np.zeros(10),\n",
    "                      np.cumsum(np.concatenate([np.ones(500),0.5*np.ones(500)]))])\n",
    "\n",
    "for ct in r_x:\n",
    "    err = ct - g4.x[-1]\n",
    "    e_x.append(err)    \n",
    "    uct = pid(err)\n",
    "    g4(g3(g2(g1(uct))))"
   ]
  },
  {
   "cell_type": "markdown",
   "metadata": {},
   "source": [
    "The foor loop will run over all the samples of $r_s$ and apply each one of the entries to the system. It is possible to check the state of the system by checking the value $x$. Here the sytem allows to query the position value."
   ]
  },
  {
   "cell_type": "code",
   "execution_count": null,
   "metadata": {},
   "outputs": [],
   "source": [
    "p = figure()\n",
    "p.line(np.arange(len(g4.x)),g4.x,legend_label = \"x\")\n",
    "p.line(np.arange(len(r_x)),r_x,color='red',legend_label = \"r\")\n",
    "p.xaxis.axis_label=\"Time [s]\"\n",
    "p.yaxis.axis_label=\"Position [m]\"\n",
    "p.legend.location = \"top_left\";\n",
    "show(p)"
   ]
  },
  {
   "cell_type": "markdown",
   "metadata": {},
   "source": [
    "**Q4**: Re run the simulation by storing the signal `uctr` in a variable `u_x`. Trace and observe the behavior of three variables in time. `e_x`, `u_x` and the corresponding speed. \n",
    "\n",
    "<span style= \"color:blue\">Provide your answers below:</span>"
   ]
  },
  {
   "cell_type": "code",
   "execution_count": null,
   "metadata": {},
   "outputs": [],
   "source": []
  },
  {
   "cell_type": "markdown",
   "metadata": {},
   "source": [
    "**Q5**: Again, as you have observed the behavior was apriori pre established via fixed constants of the PID controller in particular `k_p`,`k_i`, `k_d`. Again modify slightly the values of $k_p$ and $k_i$ and trace the signals $x$, $v$, $e_x$ and $u_x$ for a change in this case. What could be the potential effects of this control?\n",
    "\n",
    "<span style= \"color:blue\">Provide your answers below:</span>\n"
   ]
  },
  {
   "cell_type": "code",
   "execution_count": null,
   "metadata": {},
   "outputs": [],
   "source": []
  },
  {
   "cell_type": "markdown",
   "metadata": {},
   "source": [
    "#### Building up a platoon of two vehicles \n",
    "\n",
    "In order to  connect a platoon of two vehicles in this case we need to create a chain of systems like the ones before studied. For this purpose we are going to use the same kind of building blocks. Note that in this case we need to provide a reference for *headway space* that needs to be transformed into position. Let's consider the following block diagram with two of the already simulated systems.\n",
    "\n",
    "\n",
    "<img src=\"assets/img/cacc-det2.png\" alt=\"drawing\" width=\"700\"/>\n",
    "\n",
    "The idea is to put in cascade two controlled systems by computing the reference of the second one starting from the first one. Let's use again the same basic blocks \n"
   ]
  },
  {
   "cell_type": "code",
   "execution_count": null,
   "metadata": {},
   "outputs": [],
   "source": [
    "# Class to enable connectivity betwen cars \n",
    "class PlatoonVehicle:\n",
    "    \n",
    "    _idx=0\n",
    "    \n",
    "    def __init__(self,x_0):\n",
    "        \"\"\"Initialize the system\"\"\"\n",
    "        self.idx = self.__class__._idx+1\n",
    "        \n",
    "        self.g1 = System() \n",
    "        self.g2 = System()\n",
    "        self.g3 = Integrator()\n",
    "        self.g4 = Integrator()\n",
    "        self.x = [x_0]\n",
    "        \n",
    "    def __call__(self,control):\n",
    "        \"\"\"Creating a system to call\"\"\"\n",
    "        self.x.append(self.g4(self.g3(self.g2(self.g1(control)))))\n",
    "        return self.x \n",
    "    \n",
    "# Declares each one of the systems\n",
    "X_0  = [5,0]\n",
    "cars = [PlatoonVehicle(x0) for x0 in X_0]\n",
    "\n",
    "# Declares each one of the controllers\n",
    "pids = [PID(k_p=0.2, k_i=0.015,k_d=0) for _ in range(2)]\n",
    "\n",
    "err = [[] for _ in range(2)]\n",
    "r0_x = np.concatenate([np.zeros(10),\n",
    "                       np.cumsum(np.concatenate([np.ones(500),0.5*np.ones(500)]))]) + 5 # Offset\n",
    "\n",
    "\n",
    "# Lead vehicle only \n",
    "# Lead vehicle only \n",
    "e_x = []\n",
    "\n",
    "for ct in r0_x:\n",
    "    err = ct - cars[0].x[-1] \n",
    "    e_x.append(err)    \n",
    "    uct = pids[0](err)\n",
    "    cars[0](uct)\n",
    "\n",
    "\n",
    "\n",
    "\n",
    "# # Constant gap following of 5 m below\n",
    "# r1_s = 5 * np.ones(len(r0_x))\n",
    "\n",
    "# ref_zip = zip(r0_x,r1_s)\n",
    "\n",
    "# for t, refs in enumerate(ref_zip):\n",
    "#     zip_car = zip(err, cars, pids, refs)\n",
    "#     for idx, values in enumerate(zip_car): \n",
    "#         e,car,pid,r = values \n",
    "#         if idx==0:\n",
    "#             # Leading vehicle\n",
    "#             e_x = r - car.x[-1]\n",
    "#             e.append(e_x)\n",
    "#             uct = pid(e_x)  \n",
    "#             car(uct)\n",
    "#         else: \n",
    "#             pass\n",
    "        \n",
    "#         print(idx,e,car,pid,r)\n",
    "#     if t==1:        \n",
    "#         break\n",
    "#         print(r)\n",
    "    \n",
    "#         err = r - car.x[-1]\n",
    "        \n",
    "#         e.append(err)\n",
    "#         uct = pid(err)    \n",
    "#         car(uct) \n",
    "        "
   ]
  },
  {
   "cell_type": "code",
   "execution_count": null,
   "metadata": {},
   "outputs": [],
   "source": [
    "p = figure()\n",
    "\n",
    "# Tracing refences\n",
    "\n",
    "p.line(np.arange(len(r0_x)),r0_x,legend_label = \"R_0\")\n",
    "p.line(np.arange(len(r1_x)),r1_x,legend_label = \"R_1\")\n",
    "\n",
    "for i,car in enumerate(cars):\n",
    "#     pass\n",
    "    p.line(np.arange(len(car.x)),car.x,legend_label = f\"x {i}\")\n",
    "    break\n",
    "# #     p.line(np.arange(len(r_x)),r_x,color='red',legend_label = \"r\")\n",
    "p.xaxis.axis_label=\"Time [s]\"\n",
    "p.yaxis.axis_label=\"Position [m]\"\n",
    "p.legend.location = \"top_left\";\n",
    "show(p)"
   ]
  },
  {
   "cell_type": "markdown",
   "metadata": {},
   "source": [
    "#### Computing emissions and side effects \n",
    "\n",
    "When checking emissions we can refer multiple models, in this case we are going to make use of the model given by [Treiber, 2014](http://traffic-flow-dynamics.org). The function to compute instantaneous $CO_2$ emissions is given by: \n",
    "\n",
    "$$\\dot{CO}_2 =  2.3 \\frac{100000}{C_{\\text{spec}}} \\frac{P(v,\\dot{v})}{v}$$\n",
    "\n",
    "where \n",
    "\n",
    "$$P(v,\\dot{v}) = max(P_0+ v F(v,\\dot{v}),0)$$\n",
    "\n",
    "$$F(v,\\dot{v}) = m\\dot{v} + (\\mu+\\phi)mg + \\frac{1}{2}\\rho \\bar{c_d} A v^2$$\n",
    "\n",
    "Some of these parameters are: \n",
    "\n",
    "| Parameter     | Value     | Units |\n",
    ":--------------:|:---------:|:------:\n",
    "$$m$$           | 1500      | [kg]\n",
    "$$P_0$$         | 3         | [kW]\n",
    "$$C_{\\text{spec}}$$| 300    | [ml/kWh]\n",
    "$$\\rho$$        | 1.3       | [kg/m$^3$]\n",
    "$$\\mu$$         | 0.02      | [veh/km]\n",
    "$$\\bar{c_d}$$         | 0.3       | \n",
    "$$A$$           | 2         | [m$^2$]\n",
    "\n",
    "$\\dot{v}$ denote the vehicle acceleration and $v$ denote the vehicle speed"
   ]
  },
  {
   "cell_type": "markdown",
   "metadata": {},
   "source": [
    "**Q9**: Design a function that accepts the matrices `V` and `A` and returns the emissions of each vehicle in time. Compute the cumulated emissions in time for all vehicles and compare to the case of `V_CAV`,  `A_CAV`. \n",
    "\n",
    "<span style= \"color:blue\">Provide your answers below:</span>\n"
   ]
  },
  {
   "cell_type": "code",
   "execution_count": null,
   "metadata": {},
   "outputs": [],
   "source": []
  },
  {
   "cell_type": "markdown",
   "metadata": {},
   "source": [
    "## Project 03\n",
    "\n",
    "* Create and simulate a platoon of 5 vehicles by considering uniform spacing among them.\n",
    "* Study the behavior of the average `headway space` with particular values of the PID. You may use the same as in this notebook. \n",
    "* Consider varying the constants `k_p` and `k_i` from their current values until some instability small instability es reached. Which are the consequences for the last vehicle in the platoon. \n",
    "* Determine the net effect on estimated `CO_2` emissions due to the aplication of different controllers?\n",
    "* If the coefficient `c_d` is now a function of the spacing like \n",
    "\n",
    "    $$c_d = \\frac{\\bar{c_d}}{1+e^{-x/2}}$$\n",
    "\n",
    "  What are effects on the `CO_2` emissions? \n"
   ]
  },
  {
   "cell_type": "markdown",
   "metadata": {},
   "source": [
    "A. Ladino"
   ]
  }
 ],
 "metadata": {
  "file_extension": ".py",
  "kernelspec": {
   "display_name": "Python [conda env:root] *",
   "language": "python",
   "name": "conda-root-py"
  },
  "language_info": {
   "codemirror_mode": {
    "name": "ipython",
    "version": 3
   },
   "file_extension": ".py",
   "mimetype": "text/x-python",
   "name": "python",
   "nbconvert_exporter": "python",
   "pygments_lexer": "ipython3",
   "version": "3.7.5"
  },
  "mimetype": "text/x-python",
  "name": "python",
  "npconvert_exporter": "python",
  "pygments_lexer": "ipython3",
  "version": 3
 },
 "nbformat": 4,
 "nbformat_minor": 4
}
