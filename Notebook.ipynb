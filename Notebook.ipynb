{
 "cells": [
  {
   "cell_type": "code",
   "execution_count": 1,
   "metadata": {},
   "outputs": [],
   "source": [
    "import sys; sys.path.append(\"vplatoon\")"
   ]
  },
  {
   "cell_type": "code",
   "execution_count": 2,
   "metadata": {},
   "outputs": [],
   "source": [
    "%load_ext autoreload"
   ]
  },
  {
   "cell_type": "code",
   "execution_count": 3,
   "metadata": {},
   "outputs": [],
   "source": [
    "autoreload 2"
   ]
  },
  {
   "cell_type": "markdown",
   "metadata": {},
   "source": [
    "# Project Description \n",
    "\n",
    "## Analyzing Platooning Technologies and their benefits for transportation\n",
    "\n",
    "The main objective of this project is to understand a traffic phenomena denominated \"platoon\" and design proper control strategies for a platoon of vehicles in order to optimize the traffic flow and reduce the fuel consumption. \n",
    "\n",
    "<img src=\"assets/img/truck-platooning.jpg\" alt=\"drawing\" width=\"600\"/>\n",
    "\n",
    "In order to do that we are going to make use of the package `vplatoon` that includes some basic models to deploy platooning systems including the implemenation of [`ACC/CACC`](https://en.wikipedia.org/wiki/Adaptive_cruise_control) systems. For more information about the source code of this package please go [here](https://github.com/aladinoster/vplatoon). Over there you will find a folder called `vplatoon` containing all the models in the submodules `carfollow`, `vehicles`, `demand`, `messages` etc. Some of these will be explored along the module and may help you to progress faster in the project.   \n"
   ]
  },
  {
   "cell_type": "code",
   "execution_count": 4,
   "metadata": {},
   "outputs": [],
   "source": [
    "# import sys; sys.path.append(\"connectv2x\") # Uncomment in case pip does not work "
   ]
  },
  {
   "cell_type": "markdown",
   "metadata": {
    "papermill": {
     "duration": 0.013152,
     "end_time": "2019-11-26T15:01:36.194135",
     "exception": false,
     "start_time": "2019-11-26T15:01:36.180983",
     "status": "completed"
    },
    "tags": []
   },
   "source": [
    "## Contents and structure \n",
    "\n",
    "* Exploration and modeling of vehicle dynamics and \n",
    "* Basic control systems \n",
    "* Implementation of a platoon via control systems \n",
    "* Compute emissions from trajectories \n",
    "* Understanding side effects of platoon (Stability) \n",
    "\n",
    "Let's begin by importing some plotting libraries that will help us with data visualization"
   ]
  },
  {
   "cell_type": "code",
   "execution_count": 5,
   "metadata": {},
   "outputs": [
    {
     "data": {
      "text/html": [
       "\n",
       "    <div class=\"bk-root\">\n",
       "        <a href=\"https://bokeh.org\" target=\"_blank\" class=\"bk-logo bk-logo-small bk-logo-notebook\"></a>\n",
       "        <span id=\"1001\">Loading BokehJS ...</span>\n",
       "    </div>"
      ]
     },
     "metadata": {},
     "output_type": "display_data"
    },
    {
     "data": {
      "application/javascript": [
       "\n",
       "(function(root) {\n",
       "  function now() {\n",
       "    return new Date();\n",
       "  }\n",
       "\n",
       "  var force = true;\n",
       "\n",
       "  if (typeof root._bokeh_onload_callbacks === \"undefined\" || force === true) {\n",
       "    root._bokeh_onload_callbacks = [];\n",
       "    root._bokeh_is_loading = undefined;\n",
       "  }\n",
       "\n",
       "  var JS_MIME_TYPE = 'application/javascript';\n",
       "  var HTML_MIME_TYPE = 'text/html';\n",
       "  var EXEC_MIME_TYPE = 'application/vnd.bokehjs_exec.v0+json';\n",
       "  var CLASS_NAME = 'output_bokeh rendered_html';\n",
       "\n",
       "  /**\n",
       "   * Render data to the DOM node\n",
       "   */\n",
       "  function render(props, node) {\n",
       "    var script = document.createElement(\"script\");\n",
       "    node.appendChild(script);\n",
       "  }\n",
       "\n",
       "  /**\n",
       "   * Handle when an output is cleared or removed\n",
       "   */\n",
       "  function handleClearOutput(event, handle) {\n",
       "    var cell = handle.cell;\n",
       "\n",
       "    var id = cell.output_area._bokeh_element_id;\n",
       "    var server_id = cell.output_area._bokeh_server_id;\n",
       "    // Clean up Bokeh references\n",
       "    if (id != null && id in Bokeh.index) {\n",
       "      Bokeh.index[id].model.document.clear();\n",
       "      delete Bokeh.index[id];\n",
       "    }\n",
       "\n",
       "    if (server_id !== undefined) {\n",
       "      // Clean up Bokeh references\n",
       "      var cmd = \"from bokeh.io.state import curstate; print(curstate().uuid_to_server['\" + server_id + \"'].get_sessions()[0].document.roots[0]._id)\";\n",
       "      cell.notebook.kernel.execute(cmd, {\n",
       "        iopub: {\n",
       "          output: function(msg) {\n",
       "            var id = msg.content.text.trim();\n",
       "            if (id in Bokeh.index) {\n",
       "              Bokeh.index[id].model.document.clear();\n",
       "              delete Bokeh.index[id];\n",
       "            }\n",
       "          }\n",
       "        }\n",
       "      });\n",
       "      // Destroy server and session\n",
       "      var cmd = \"import bokeh.io.notebook as ion; ion.destroy_server('\" + server_id + \"')\";\n",
       "      cell.notebook.kernel.execute(cmd);\n",
       "    }\n",
       "  }\n",
       "\n",
       "  /**\n",
       "   * Handle when a new output is added\n",
       "   */\n",
       "  function handleAddOutput(event, handle) {\n",
       "    var output_area = handle.output_area;\n",
       "    var output = handle.output;\n",
       "\n",
       "    // limit handleAddOutput to display_data with EXEC_MIME_TYPE content only\n",
       "    if ((output.output_type != \"display_data\") || (!output.data.hasOwnProperty(EXEC_MIME_TYPE))) {\n",
       "      return\n",
       "    }\n",
       "\n",
       "    var toinsert = output_area.element.find(\".\" + CLASS_NAME.split(' ')[0]);\n",
       "\n",
       "    if (output.metadata[EXEC_MIME_TYPE][\"id\"] !== undefined) {\n",
       "      toinsert[toinsert.length - 1].firstChild.textContent = output.data[JS_MIME_TYPE];\n",
       "      // store reference to embed id on output_area\n",
       "      output_area._bokeh_element_id = output.metadata[EXEC_MIME_TYPE][\"id\"];\n",
       "    }\n",
       "    if (output.metadata[EXEC_MIME_TYPE][\"server_id\"] !== undefined) {\n",
       "      var bk_div = document.createElement(\"div\");\n",
       "      bk_div.innerHTML = output.data[HTML_MIME_TYPE];\n",
       "      var script_attrs = bk_div.children[0].attributes;\n",
       "      for (var i = 0; i < script_attrs.length; i++) {\n",
       "        toinsert[toinsert.length - 1].firstChild.setAttribute(script_attrs[i].name, script_attrs[i].value);\n",
       "      }\n",
       "      // store reference to server id on output_area\n",
       "      output_area._bokeh_server_id = output.metadata[EXEC_MIME_TYPE][\"server_id\"];\n",
       "    }\n",
       "  }\n",
       "\n",
       "  function register_renderer(events, OutputArea) {\n",
       "\n",
       "    function append_mime(data, metadata, element) {\n",
       "      // create a DOM node to render to\n",
       "      var toinsert = this.create_output_subarea(\n",
       "        metadata,\n",
       "        CLASS_NAME,\n",
       "        EXEC_MIME_TYPE\n",
       "      );\n",
       "      this.keyboard_manager.register_events(toinsert);\n",
       "      // Render to node\n",
       "      var props = {data: data, metadata: metadata[EXEC_MIME_TYPE]};\n",
       "      render(props, toinsert[toinsert.length - 1]);\n",
       "      element.append(toinsert);\n",
       "      return toinsert\n",
       "    }\n",
       "\n",
       "    /* Handle when an output is cleared or removed */\n",
       "    events.on('clear_output.CodeCell', handleClearOutput);\n",
       "    events.on('delete.Cell', handleClearOutput);\n",
       "\n",
       "    /* Handle when a new output is added */\n",
       "    events.on('output_added.OutputArea', handleAddOutput);\n",
       "\n",
       "    /**\n",
       "     * Register the mime type and append_mime function with output_area\n",
       "     */\n",
       "    OutputArea.prototype.register_mime_type(EXEC_MIME_TYPE, append_mime, {\n",
       "      /* Is output safe? */\n",
       "      safe: true,\n",
       "      /* Index of renderer in `output_area.display_order` */\n",
       "      index: 0\n",
       "    });\n",
       "  }\n",
       "\n",
       "  // register the mime type if in Jupyter Notebook environment and previously unregistered\n",
       "  if (root.Jupyter !== undefined) {\n",
       "    var events = require('base/js/events');\n",
       "    var OutputArea = require('notebook/js/outputarea').OutputArea;\n",
       "\n",
       "    if (OutputArea.prototype.mime_types().indexOf(EXEC_MIME_TYPE) == -1) {\n",
       "      register_renderer(events, OutputArea);\n",
       "    }\n",
       "  }\n",
       "\n",
       "  \n",
       "  if (typeof (root._bokeh_timeout) === \"undefined\" || force === true) {\n",
       "    root._bokeh_timeout = Date.now() + 5000;\n",
       "    root._bokeh_failed_load = false;\n",
       "  }\n",
       "\n",
       "  var NB_LOAD_WARNING = {'data': {'text/html':\n",
       "     \"<div style='background-color: #fdd'>\\n\"+\n",
       "     \"<p>\\n\"+\n",
       "     \"BokehJS does not appear to have successfully loaded. If loading BokehJS from CDN, this \\n\"+\n",
       "     \"may be due to a slow or bad network connection. Possible fixes:\\n\"+\n",
       "     \"</p>\\n\"+\n",
       "     \"<ul>\\n\"+\n",
       "     \"<li>re-rerun `output_notebook()` to attempt to load from CDN again, or</li>\\n\"+\n",
       "     \"<li>use INLINE resources instead, as so:</li>\\n\"+\n",
       "     \"</ul>\\n\"+\n",
       "     \"<code>\\n\"+\n",
       "     \"from bokeh.resources import INLINE\\n\"+\n",
       "     \"output_notebook(resources=INLINE)\\n\"+\n",
       "     \"</code>\\n\"+\n",
       "     \"</div>\"}};\n",
       "\n",
       "  function display_loaded() {\n",
       "    var el = document.getElementById(\"1001\");\n",
       "    if (el != null) {\n",
       "      el.textContent = \"BokehJS is loading...\";\n",
       "    }\n",
       "    if (root.Bokeh !== undefined) {\n",
       "      if (el != null) {\n",
       "        el.textContent = \"BokehJS \" + root.Bokeh.version + \" successfully loaded.\";\n",
       "      }\n",
       "    } else if (Date.now() < root._bokeh_timeout) {\n",
       "      setTimeout(display_loaded, 100)\n",
       "    }\n",
       "  }\n",
       "\n",
       "\n",
       "  function run_callbacks() {\n",
       "    try {\n",
       "      root._bokeh_onload_callbacks.forEach(function(callback) {\n",
       "        if (callback != null)\n",
       "          callback();\n",
       "      });\n",
       "    } finally {\n",
       "      delete root._bokeh_onload_callbacks\n",
       "    }\n",
       "    console.debug(\"Bokeh: all callbacks have finished\");\n",
       "  }\n",
       "\n",
       "  function load_libs(css_urls, js_urls, callback) {\n",
       "    if (css_urls == null) css_urls = [];\n",
       "    if (js_urls == null) js_urls = [];\n",
       "\n",
       "    root._bokeh_onload_callbacks.push(callback);\n",
       "    if (root._bokeh_is_loading > 0) {\n",
       "      console.debug(\"Bokeh: BokehJS is being loaded, scheduling callback at\", now());\n",
       "      return null;\n",
       "    }\n",
       "    if (js_urls == null || js_urls.length === 0) {\n",
       "      run_callbacks();\n",
       "      return null;\n",
       "    }\n",
       "    console.debug(\"Bokeh: BokehJS not loaded, scheduling load and callback at\", now());\n",
       "    root._bokeh_is_loading = css_urls.length + js_urls.length;\n",
       "\n",
       "    function on_load() {\n",
       "      root._bokeh_is_loading--;\n",
       "      if (root._bokeh_is_loading === 0) {\n",
       "        console.debug(\"Bokeh: all BokehJS libraries/stylesheets loaded\");\n",
       "        run_callbacks()\n",
       "      }\n",
       "    }\n",
       "\n",
       "    function on_error() {\n",
       "      console.error(\"failed to load \" + url);\n",
       "    }\n",
       "\n",
       "    for (var i = 0; i < css_urls.length; i++) {\n",
       "      var url = css_urls[i];\n",
       "      const element = document.createElement(\"link\");\n",
       "      element.onload = on_load;\n",
       "      element.onerror = on_error;\n",
       "      element.rel = \"stylesheet\";\n",
       "      element.type = \"text/css\";\n",
       "      element.href = url;\n",
       "      console.debug(\"Bokeh: injecting link tag for BokehJS stylesheet: \", url);\n",
       "      document.body.appendChild(element);\n",
       "    }\n",
       "\n",
       "    for (var i = 0; i < js_urls.length; i++) {\n",
       "      var url = js_urls[i];\n",
       "      var element = document.createElement('script');\n",
       "      element.onload = on_load;\n",
       "      element.onerror = on_error;\n",
       "      element.async = false;\n",
       "      element.src = url;\n",
       "      console.debug(\"Bokeh: injecting script tag for BokehJS library: \", url);\n",
       "      document.head.appendChild(element);\n",
       "    }\n",
       "  };var element = document.getElementById(\"1001\");\n",
       "  if (element == null) {\n",
       "    console.error(\"Bokeh: ERROR: autoload.js configured with elementid '1001' but no matching script tag was found. \")\n",
       "    return false;\n",
       "  }\n",
       "\n",
       "  function inject_raw_css(css) {\n",
       "    const element = document.createElement(\"style\");\n",
       "    element.appendChild(document.createTextNode(css));\n",
       "    document.body.appendChild(element);\n",
       "  }\n",
       "\n",
       "  \n",
       "  var js_urls = [\"https://cdn.pydata.org/bokeh/release/bokeh-1.4.0.min.js\", \"https://cdn.pydata.org/bokeh/release/bokeh-widgets-1.4.0.min.js\", \"https://cdn.pydata.org/bokeh/release/bokeh-tables-1.4.0.min.js\", \"https://cdn.pydata.org/bokeh/release/bokeh-gl-1.4.0.min.js\"];\n",
       "  var css_urls = [];\n",
       "  \n",
       "\n",
       "  var inline_js = [\n",
       "    function(Bokeh) {\n",
       "      Bokeh.set_log_level(\"info\");\n",
       "    },\n",
       "    function(Bokeh) {\n",
       "    \n",
       "    \n",
       "    }\n",
       "  ];\n",
       "\n",
       "  function run_inline_js() {\n",
       "    \n",
       "    if (root.Bokeh !== undefined || force === true) {\n",
       "      \n",
       "    for (var i = 0; i < inline_js.length; i++) {\n",
       "      inline_js[i].call(root, root.Bokeh);\n",
       "    }\n",
       "    if (force === true) {\n",
       "        display_loaded();\n",
       "      }} else if (Date.now() < root._bokeh_timeout) {\n",
       "      setTimeout(run_inline_js, 100);\n",
       "    } else if (!root._bokeh_failed_load) {\n",
       "      console.log(\"Bokeh: BokehJS failed to load within specified timeout.\");\n",
       "      root._bokeh_failed_load = true;\n",
       "    } else if (force !== true) {\n",
       "      var cell = $(document.getElementById(\"1001\")).parents('.cell').data().cell;\n",
       "      cell.output_area.append_execute_result(NB_LOAD_WARNING)\n",
       "    }\n",
       "\n",
       "  }\n",
       "\n",
       "  if (root._bokeh_is_loading === 0) {\n",
       "    console.debug(\"Bokeh: BokehJS loaded, going straight to plotting\");\n",
       "    run_inline_js();\n",
       "  } else {\n",
       "    load_libs(css_urls, js_urls, function() {\n",
       "      console.debug(\"Bokeh: BokehJS plotting callback run at\", now());\n",
       "      run_inline_js();\n",
       "    });\n",
       "  }\n",
       "}(window));"
      ],
      "application/vnd.bokehjs_load.v0+json": "\n(function(root) {\n  function now() {\n    return new Date();\n  }\n\n  var force = true;\n\n  if (typeof root._bokeh_onload_callbacks === \"undefined\" || force === true) {\n    root._bokeh_onload_callbacks = [];\n    root._bokeh_is_loading = undefined;\n  }\n\n  \n\n  \n  if (typeof (root._bokeh_timeout) === \"undefined\" || force === true) {\n    root._bokeh_timeout = Date.now() + 5000;\n    root._bokeh_failed_load = false;\n  }\n\n  var NB_LOAD_WARNING = {'data': {'text/html':\n     \"<div style='background-color: #fdd'>\\n\"+\n     \"<p>\\n\"+\n     \"BokehJS does not appear to have successfully loaded. If loading BokehJS from CDN, this \\n\"+\n     \"may be due to a slow or bad network connection. Possible fixes:\\n\"+\n     \"</p>\\n\"+\n     \"<ul>\\n\"+\n     \"<li>re-rerun `output_notebook()` to attempt to load from CDN again, or</li>\\n\"+\n     \"<li>use INLINE resources instead, as so:</li>\\n\"+\n     \"</ul>\\n\"+\n     \"<code>\\n\"+\n     \"from bokeh.resources import INLINE\\n\"+\n     \"output_notebook(resources=INLINE)\\n\"+\n     \"</code>\\n\"+\n     \"</div>\"}};\n\n  function display_loaded() {\n    var el = document.getElementById(\"1001\");\n    if (el != null) {\n      el.textContent = \"BokehJS is loading...\";\n    }\n    if (root.Bokeh !== undefined) {\n      if (el != null) {\n        el.textContent = \"BokehJS \" + root.Bokeh.version + \" successfully loaded.\";\n      }\n    } else if (Date.now() < root._bokeh_timeout) {\n      setTimeout(display_loaded, 100)\n    }\n  }\n\n\n  function run_callbacks() {\n    try {\n      root._bokeh_onload_callbacks.forEach(function(callback) {\n        if (callback != null)\n          callback();\n      });\n    } finally {\n      delete root._bokeh_onload_callbacks\n    }\n    console.debug(\"Bokeh: all callbacks have finished\");\n  }\n\n  function load_libs(css_urls, js_urls, callback) {\n    if (css_urls == null) css_urls = [];\n    if (js_urls == null) js_urls = [];\n\n    root._bokeh_onload_callbacks.push(callback);\n    if (root._bokeh_is_loading > 0) {\n      console.debug(\"Bokeh: BokehJS is being loaded, scheduling callback at\", now());\n      return null;\n    }\n    if (js_urls == null || js_urls.length === 0) {\n      run_callbacks();\n      return null;\n    }\n    console.debug(\"Bokeh: BokehJS not loaded, scheduling load and callback at\", now());\n    root._bokeh_is_loading = css_urls.length + js_urls.length;\n\n    function on_load() {\n      root._bokeh_is_loading--;\n      if (root._bokeh_is_loading === 0) {\n        console.debug(\"Bokeh: all BokehJS libraries/stylesheets loaded\");\n        run_callbacks()\n      }\n    }\n\n    function on_error() {\n      console.error(\"failed to load \" + url);\n    }\n\n    for (var i = 0; i < css_urls.length; i++) {\n      var url = css_urls[i];\n      const element = document.createElement(\"link\");\n      element.onload = on_load;\n      element.onerror = on_error;\n      element.rel = \"stylesheet\";\n      element.type = \"text/css\";\n      element.href = url;\n      console.debug(\"Bokeh: injecting link tag for BokehJS stylesheet: \", url);\n      document.body.appendChild(element);\n    }\n\n    for (var i = 0; i < js_urls.length; i++) {\n      var url = js_urls[i];\n      var element = document.createElement('script');\n      element.onload = on_load;\n      element.onerror = on_error;\n      element.async = false;\n      element.src = url;\n      console.debug(\"Bokeh: injecting script tag for BokehJS library: \", url);\n      document.head.appendChild(element);\n    }\n  };var element = document.getElementById(\"1001\");\n  if (element == null) {\n    console.error(\"Bokeh: ERROR: autoload.js configured with elementid '1001' but no matching script tag was found. \")\n    return false;\n  }\n\n  function inject_raw_css(css) {\n    const element = document.createElement(\"style\");\n    element.appendChild(document.createTextNode(css));\n    document.body.appendChild(element);\n  }\n\n  \n  var js_urls = [\"https://cdn.pydata.org/bokeh/release/bokeh-1.4.0.min.js\", \"https://cdn.pydata.org/bokeh/release/bokeh-widgets-1.4.0.min.js\", \"https://cdn.pydata.org/bokeh/release/bokeh-tables-1.4.0.min.js\", \"https://cdn.pydata.org/bokeh/release/bokeh-gl-1.4.0.min.js\"];\n  var css_urls = [];\n  \n\n  var inline_js = [\n    function(Bokeh) {\n      Bokeh.set_log_level(\"info\");\n    },\n    function(Bokeh) {\n    \n    \n    }\n  ];\n\n  function run_inline_js() {\n    \n    if (root.Bokeh !== undefined || force === true) {\n      \n    for (var i = 0; i < inline_js.length; i++) {\n      inline_js[i].call(root, root.Bokeh);\n    }\n    if (force === true) {\n        display_loaded();\n      }} else if (Date.now() < root._bokeh_timeout) {\n      setTimeout(run_inline_js, 100);\n    } else if (!root._bokeh_failed_load) {\n      console.log(\"Bokeh: BokehJS failed to load within specified timeout.\");\n      root._bokeh_failed_load = true;\n    } else if (force !== true) {\n      var cell = $(document.getElementById(\"1001\")).parents('.cell').data().cell;\n      cell.output_area.append_execute_result(NB_LOAD_WARNING)\n    }\n\n  }\n\n  if (root._bokeh_is_loading === 0) {\n    console.debug(\"Bokeh: BokehJS loaded, going straight to plotting\");\n    run_inline_js();\n  } else {\n    load_libs(css_urls, js_urls, function() {\n      console.debug(\"Bokeh: BokehJS plotting callback run at\", now());\n      run_inline_js();\n    });\n  }\n}(window));"
     },
     "metadata": {},
     "output_type": "display_data"
    }
   ],
   "source": [
    "from bokeh.plotting import show\n",
    "from bokeh.io import output_notebook\n",
    "output_notebook()"
   ]
  },
  {
   "cell_type": "markdown",
   "metadata": {
    "papermill": {
     "duration": 0.013152,
     "end_time": "2019-11-26T15:01:36.194135",
     "exception": false,
     "start_time": "2019-11-26T15:01:36.180983",
     "status": "completed"
    },
    "tags": []
   },
   "source": [
    "## Understanding the basics \n",
    "\n",
    "For this application it is considered the simulation of [microscopic traffic models](https://en.wikipedia.org/wiki/Microscopic_traffic_flow_model) where *longitudinal position* follow a specified behavior defined as a function of  two main components, the *headway space* and the *speed differential*. The *car following* behavior describes the behavior of the vehicle in its longitudinal dynamics while the *lane change* behavior describes the behavior in the lateral position. \n",
    "\n",
    "In order to modify traffic behavior for a condition, the system is modeled via traffic model where V2I messages modify vehicle speed or lateral position   "
   ]
  },
  {
   "cell_type": "markdown",
   "metadata": {},
   "source": [
    "#### Traffic model and the fundamental diagram\n",
    "\n",
    "Before pursuing it is important to understand the value of the fundamental diagram. The fundamental diagram describe the relation ship between ***density*** or concentration of vehicles and the ***flow*** or speed of vehicles. The density is regularly denoted as $\\kappa$ for this scenarios as `K`, in the meanwhile the flow is denoted by `Q`. We are going to consider the fact that the relationship follows a piecewise linear behavior as follows:\n",
    "\n",
    "\n",
    "\\begin{aligned}\n",
    "Q(\\kappa) = \\begin{cases}\n",
    "u\\kappa\\quad 0\\leq\\kappa\\leq \\kappa_c\\\\\n",
    "w\\left(\\kappa_x-\\kappa\\right)\\quad \\kappa_c\\leq\\kappa\\leq \\kappa_x\n",
    "\\end{cases}\n",
    "\\end{aligned}\n",
    "\n",
    "\n",
    "Let's define the number of vehicles and their initial positions, in order to determine the initial position let's find the minimum spacing. For the moment let's consider the following parameters. `W=5`, `K_X=0.2` and `U=20`. Let's trace the fundamental diagram for this case. We will make use of the `FundamentalDiagram` class in the `traffic` submodule"
   ]
  },
  {
   "cell_type": "code",
   "execution_count": 6,
   "metadata": {},
   "outputs": [
    {
     "data": {
      "text/html": [
       "\n",
       "\n",
       "\n",
       "\n",
       "\n",
       "\n",
       "  <div class=\"bk-root\" id=\"a4d43dc8-1111-412c-a9c5-bf8da87a2697\" data-root-id=\"1002\"></div>\n"
      ]
     },
     "metadata": {},
     "output_type": "display_data"
    },
    {
     "data": {
      "application/javascript": [
       "(function(root) {\n",
       "  function embed_document(root) {\n",
       "    \n",
       "  var docs_json = {\"d4727a89-4fa9-4181-a0b1-eb02ff5559be\":{\"roots\":{\"references\":[{\"attributes\":{\"below\":[{\"id\":\"1013\",\"type\":\"LinearAxis\"}],\"center\":[{\"id\":\"1017\",\"type\":\"Grid\"},{\"id\":\"1022\",\"type\":\"Grid\"}],\"left\":[{\"id\":\"1018\",\"type\":\"LinearAxis\"}],\"plot_height\":500,\"plot_width\":500,\"renderers\":[{\"id\":\"1027\",\"type\":\"GlyphRenderer\"}],\"title\":{\"id\":\"1003\",\"type\":\"Title\"},\"toolbar\":{\"id\":\"1023\",\"type\":\"Toolbar\"},\"x_range\":{\"id\":\"1005\",\"type\":\"DataRange1d\"},\"x_scale\":{\"id\":\"1009\",\"type\":\"LinearScale\"},\"y_range\":{\"id\":\"1007\",\"type\":\"DataRange1d\"},\"y_scale\":{\"id\":\"1011\",\"type\":\"LinearScale\"}},\"id\":\"1002\",\"subtype\":\"Figure\",\"type\":\"Plot\"},{\"attributes\":{\"line_color\":\"#1f77b4\",\"x\":{\"field\":\"x\"},\"y\":{\"field\":\"y\"}},\"id\":\"1025\",\"type\":\"Line\"},{\"attributes\":{\"active_drag\":\"auto\",\"active_inspect\":\"auto\",\"active_multi\":null,\"active_scroll\":\"auto\",\"active_tap\":\"auto\"},\"id\":\"1023\",\"type\":\"Toolbar\"},{\"attributes\":{\"axis_label\":\"Flow [veh/h]\",\"formatter\":{\"id\":\"1032\",\"type\":\"BasicTickFormatter\"},\"ticker\":{\"id\":\"1019\",\"type\":\"BasicTicker\"}},\"id\":\"1018\",\"type\":\"LinearAxis\"},{\"attributes\":{\"dimension\":1,\"ticker\":{\"id\":\"1019\",\"type\":\"BasicTicker\"}},\"id\":\"1022\",\"type\":\"Grid\"},{\"attributes\":{},\"id\":\"1009\",\"type\":\"LinearScale\"},{\"attributes\":{},\"id\":\"1019\",\"type\":\"BasicTicker\"},{\"attributes\":{\"text\":\"Fundamental diagram w: 5, u:25, k_x:0.2\"},\"id\":\"1003\",\"type\":\"Title\"},{\"attributes\":{},\"id\":\"1014\",\"type\":\"BasicTicker\"},{\"attributes\":{\"ticker\":{\"id\":\"1014\",\"type\":\"BasicTicker\"}},\"id\":\"1017\",\"type\":\"Grid\"},{\"attributes\":{\"axis_label\":\"Density [veh/km]\",\"formatter\":{\"id\":\"1030\",\"type\":\"BasicTickFormatter\"},\"ticker\":{\"id\":\"1014\",\"type\":\"BasicTicker\"}},\"id\":\"1013\",\"type\":\"LinearAxis\"},{\"attributes\":{\"line_alpha\":0.1,\"line_color\":\"#1f77b4\",\"x\":{\"field\":\"x\"},\"y\":{\"field\":\"y\"}},\"id\":\"1026\",\"type\":\"Line\"},{\"attributes\":{\"source\":{\"id\":\"1024\",\"type\":\"ColumnDataSource\"}},\"id\":\"1028\",\"type\":\"CDSView\"},{\"attributes\":{\"data_source\":{\"id\":\"1024\",\"type\":\"ColumnDataSource\"},\"glyph\":{\"id\":\"1025\",\"type\":\"Line\"},\"hover_glyph\":null,\"muted_glyph\":null,\"nonselection_glyph\":{\"id\":\"1026\",\"type\":\"Line\"},\"selection_glyph\":null,\"view\":{\"id\":\"1028\",\"type\":\"CDSView\"}},\"id\":\"1027\",\"type\":\"GlyphRenderer\"},{\"attributes\":{\"callback\":null,\"data\":{\"x\":{\"__ndarray__\":\"AAAAAAAAAADiZXWzq4xgP+JldbOrjHA/0xgwjQHTeD/iZXWzq4yAP1q/UqDWr4Q/0xgwjQHTiD9Mcg16LPaMP+JldbOrjJA/nhLkKUGekj9av1Kg1q+UPxdswRZswZY/0xgwjQHTmD+PxZ4Dl+SaP0xyDXos9pw/CB988MEHnz/iZXWzq4ygP0C8rG52laE/nhLkKUGeoj/8aBvlC6ejP1q/UqDWr6Q/uRWKW6G4pT8XbMEWbMGmP3XC+NE2yqc/0xgwjQHTqD8xb2dIzNupP4/FngOX5Ko/7RvWvmHtqz9Mcg16LPasP6rIRDX3/q0/CB988MEHrz+zutlVRgiwP+JldbOrjLA/ERERERERsT9AvKxudpWxP29nSMzbGbI/nhLkKUGesj/NvX+HpiKzP/xoG+ULp7M/KxS3QnErtD9av1Kg1q+0P4pq7v07NLU/uRWKW6G4tT/owCW5Bj22PxdswRZswbY/RhdddNFFtz91wvjRNsq3P6RtlC+cTrg/0xgwjQHTuD8CxMvqZle5PzFvZ0jM27k/YBoDpjFguj+PxZ4Dl+S6P75wOmH8aLs/7RvWvmHtuz8cx3Ecx3G8P0xyDXos9rw/ex2p15F6vT+qyEQ19/69P9lz4JJcg74/CB988MEHvz83yhdOJ4y/P7O62VVGCMA/SpCnBHlKwD/iZXWzq4zAP3o7Q2LezsA/ERERERERwT+p5t6/Q1PBP0C8rG52lcE/2JF6HanXwT9vZ0jM2xnCPwc9FnsOXMI/nhLkKUGewj826LHYc+DCP829f4emIsM/ZZNNNtlkwz/8aBvlC6fDP5Q+6ZM+6cM/KxS3QnErxD/D6YTxo23EP1q/UqDWr8Q/8pQgTwnyxD+Kau79OzTFPyFAvKxudsU/uRWKW6G4xT9Q61cK1PrFP+jAJbkGPcY/f5bzZzl/xj8XbMEWbMHGP65Bj8WeA8c/RhdddNFFxz/d7CojBIjHP3XC+NE2ysc/DJjGgGkMyD+kbZQvnE7IPztDYt7OkMg/0xgwjQHTyD9r7v07NBXJPwLEy+pmV8k/mpmZmZmZyT8=\",\"dtype\":\"float64\",\"shape\":[100]},\"y\":{\"__ndarray__\":\"AAAAAAAAAAAxb2dIzNupPzFvZ0jM27k/ZZNNNtlkwz8xb2dIzNvJP36lQK1fKdA/ZZNNNtlk0z9LgVq/UqDWPzFvZ0jM29k/F1100UUX3T9+pUCtXyngP3Icx3Ecx+E/ZZNNNtlk4z9YCtT6lQLlP0uBWr9SoOY/Pvjggw8+6D8xb2dIzNvpPywFav1Kgeo/Lrrooosu6j8yb2dIzNvpPzUk5u0Miek/N9lkk0026T85juM4juPoPzxDYt7OkOg/Pvjggw8+6D9CrV8pUOvnP0Ri3s6QmOc/RxdddNFF5z9JzNsZEvPmP0yBWr9SoOY/TjbZZJNN5j9Q61cK1PrlP1Og1q8UqOU/VlVVVVVV5T9YCtT6lQLlP1q/UqDWr+Q/XnTRRRdd5D9hKVDrVwrkP2PezpCYt+M/ZpNNNtlk4z9oSMzbGRLjP2r9SoFav+I/bbLJJpts4j9wZ0jM2xniP3Icx3Ecx+E/ddFFF1104T93hsS8nSHhP3o7Q2LezuA/ffDBBx984D9/pUCtXyngPwS1fqVArd8/CR988MEH3z8OiXk7Q2LePxTzdobEvN0/GV100UUX3T8ex3Ecx3HcPyIxb2dIzNs/J5tssskm2z8sBWr9SoHaPzJvZ0jM29k/N9lkk0022T88Q2LezpDYP0KtXylQ69c/SBdddNFF1z9MgVq/UqDWP1DrVwrU+tU/VlVVVVVV1T9av1Kg1q/UP2EpUOtXCtQ/ZZNNNtlk0z9s/UqBWr/SP3BnSMzbGdI/dtFFF1100T96O0Ni3s7QP4ClQK1fKdA/CR988MEHzz8W83aGxLzNPx7HcRzHccw/K5tssskmyz8zb2dIzNvJP0BDYt7OkMg/SBdddNFFxz9Q61cK1PrFP12/UqDWr8Q/ZZNNNtlkwz9yZ0jM2xnCP3o7Q2LezsA/Dh988MEHvz8ex3Ecx3G8PzhvZ0jM27k/SBdddNFFtz9iv1Kg1q+0P3JnSMzbGbI/GB988MEHrz84b2dIzNupP2y/UqDWr6Q/GB988MEHnz9Yv1Kg1q+UP4C/UqDWr4Q/AAAAAAAAAIA=\",\"dtype\":\"float64\",\"shape\":[100]}},\"selected\":{\"id\":\"1035\",\"type\":\"Selection\"},\"selection_policy\":{\"id\":\"1034\",\"type\":\"UnionRenderers\"}},\"id\":\"1024\",\"type\":\"ColumnDataSource\"},{\"attributes\":{},\"id\":\"1035\",\"type\":\"Selection\"},{\"attributes\":{},\"id\":\"1030\",\"type\":\"BasicTickFormatter\"},{\"attributes\":{\"callback\":null},\"id\":\"1005\",\"type\":\"DataRange1d\"},{\"attributes\":{\"callback\":null},\"id\":\"1007\",\"type\":\"DataRange1d\"},{\"attributes\":{},\"id\":\"1034\",\"type\":\"UnionRenderers\"},{\"attributes\":{},\"id\":\"1011\",\"type\":\"LinearScale\"},{\"attributes\":{},\"id\":\"1032\",\"type\":\"BasicTickFormatter\"}],\"root_ids\":[\"1002\"]},\"title\":\"Bokeh Application\",\"version\":\"1.4.0\"}};\n",
       "  var render_items = [{\"docid\":\"d4727a89-4fa9-4181-a0b1-eb02ff5559be\",\"roots\":{\"1002\":\"a4d43dc8-1111-412c-a9c5-bf8da87a2697\"}}];\n",
       "  root.Bokeh.embed.embed_items_notebook(docs_json, render_items);\n",
       "\n",
       "  }\n",
       "  if (root.Bokeh !== undefined) {\n",
       "    embed_document(root);\n",
       "  } else {\n",
       "    var attempts = 0;\n",
       "    var timer = setInterval(function(root) {\n",
       "      if (root.Bokeh !== undefined) {\n",
       "        clearInterval(timer);\n",
       "        embed_document(root);\n",
       "      } else {\n",
       "        attempts++;\n",
       "        if (attempts > 100) {\n",
       "          clearInterval(timer);\n",
       "          console.log(\"Bokeh: ERROR: Unable to run BokehJS code because BokehJS library is missing\");\n",
       "        }\n",
       "      }\n",
       "    }, 10, root)\n",
       "  }\n",
       "})(window);"
      ],
      "application/vnd.bokehjs_exec.v0+json": ""
     },
     "metadata": {
      "application/vnd.bokehjs_exec.v0+json": {
       "id": "1002"
      }
     },
     "output_type": "display_data"
    }
   ],
   "source": [
    "from vplatoon.traffic import FundamentalDiagram\n",
    "from bokeh.plotting import show\n",
    "\n",
    "f = FundamentalDiagram(w=5,u=25,k_x=0.2)\n",
    "p = f.plot_diagram()\n",
    "show(p)"
   ]
  },
  {
   "cell_type": "markdown",
   "metadata": {},
   "source": [
    "We can easily establish the ***critical density*** which corresponds to the amount of vehicles at which there is maximum flow via"
   ]
  },
  {
   "cell_type": "code",
   "execution_count": 7,
   "metadata": {},
   "outputs": [
    {
     "name": "stdout",
     "output_type": "stream",
     "text": [
      "Capacity: 0.8333333333333334\n",
      "Critical density: 0.03333333333333333\n",
      "Maximum density: 0.2\n",
      "Speed limit: 25\n",
      "Congestion speed: 5\n"
     ]
    }
   ],
   "source": [
    "print(f\"Capacity: {f.C}\")\n",
    "print(f\"Critical density: {f.k_c}\")\n",
    "print(f\"Maximum density: {f.k_x}\")\n",
    "print(f\"Speed limit: {f.u}\")\n",
    "print(f\"Congestion speed: {f.w}\")"
   ]
  },
  {
   "cell_type": "markdown",
   "metadata": {},
   "source": [
    "The critical density represent the minimum tolerable inter-vehicle distance **critical headway space** before vehicles start to decrease their speed. On the other hand when the value of density is maximum, and the flow is 0, the vehicles respect the **minimum headway space** that can be computed from the maximum value of density $\\kappa_x$ via\n",
    "\n",
    "\\begin{aligned}\n",
    "\\kappa_x = \\frac{N}{d} \\approx \\frac{1}{s_0}  \\approx \\frac{1}{l_{\\text{avg}}+s_{\\text{min}}} \n",
    "\\end{aligned}\n",
    "\n",
    "Where $l_{\\text{avg}}$ is the average vehicle length and $s_{text{min}}$ represents the minimum tolerated headway spacing between two vehicles. \n",
    "\n",
    "By computing the case in the fundamental diagram"
   ]
  },
  {
   "cell_type": "code",
   "execution_count": 8,
   "metadata": {},
   "outputs": [
    {
     "name": "stdout",
     "output_type": "stream",
     "text": [
      "Minimum headway space: 5.0\n"
     ]
    }
   ],
   "source": [
    "print(f\"Minimum headway space: {1/f.k_x}\")"
   ]
  },
  {
   "cell_type": "markdown",
   "metadata": {},
   "source": [
    "**Q1**: Supose a vehicle has an average length of $l_{\\text{avg}}=4$ [m] and the minimum tolerable inter vehicle distance is $s_{\\text{min}}=2.25$[m]. Consider the congestion wave speed $w=6.25$ [m/s] and a free flow speed of $u=25$ [m/s]. Compute and plot the fundamental diagram for this case and find the value of the capacity and minimum headway space:\n",
    "\n",
    "<span style= \"color:blue\">Provide your answers below:</span>"
   ]
  },
  {
   "cell_type": "code",
   "execution_count": null,
   "metadata": {},
   "outputs": [],
   "source": []
  },
  {
   "cell_type": "markdown",
   "metadata": {},
   "source": [
    "#### Platooning behaviors and car following model \n",
    "\n",
    "Keep in mind the constants you have computed `K_X`, `W`, `U`, these parameters although apply for pure [car-following](https://en.wikipedia.org/wiki/Microscopic_traffic_flow_model) they will be useful to construct and understand the behavior of truck platoons. \n",
    "\n",
    "For the sake of clarity let's consider the following figure.\n",
    "\n",
    "<img src=\"assets/img/p2-cavs.png\" alt=\"drawing\" width=\"600\"/>\n",
    "\n",
    "For the sake of clarity, the following corresponds to the notations for variable description in the model. It is considered the vehicle position of a vehicle as $x_n$ and the headway space between a vehicle and its leader as $s_n = x_{n-1}-x_{n}$. The vehicle's speed and acceleration are defined as $v_n$,$a_n$ respectively. The operator $\\Delta v_n = v_{n-1} - v_{n}$ refers to the difference between the leading vehicle and the following one. \n",
    "\n",
    "By introducing newton's law over one of the vehicles we can consider the following force set up and compute the accelertion given by the following expression: \n",
    "\n",
    "$$\n",
    "a_n(t+T) = a_n(t) + T \\frac{{u(t) - Mg\\mu - {\\scriptsize\\frac{1}{2}}\\rho C_d A v^2_n(t)}}{M} = a_n(t) + T g(C_d,v_n, u_n)\n",
    "$$\n",
    "\n",
    "Where $m$ corresponds to the truck mass, $C_d$ the drag coefficient, $A$ the frontal truck area, $\\rho$ is the density of the air.  \n",
    "\n",
    "Each one of the vehicles can follow the dynamics given by the following dynamic equation\n",
    "\n",
    "\\begin{aligned}\n",
    "x_n(t+T) &= x_n(t) + v_n(t)T\\\\\n",
    "v_n(t+T) &= v_n(t) + a_n(t) T\\\\\n",
    "a_n(t+T) &= a_n(t) + T g(C_d,v_n,u_n)\\\\\n",
    "\\end{aligned}\n",
    "\n",
    "*To implement the model a `class` object called `PlatoonDyn` has been implemented. The class intends to emulate these equations and keep track of the vehicle evolution. \n",
    "\n",
    "#### Parameters \n",
    "\n",
    "So far parameters in the model have been fixed although random scenarios can be also considered\n",
    "\n",
    "| Parameter     | Value     | Units |\n",
    ":--------------:|:---------:|:------:\n",
    "$$M$$           | 0.5       |       |\n",
    "$$A$$           | 10        | [m$^2$]\n",
    "$$\\rho$$        | 1.3       | [kg/m$^3$]\n",
    "$${C_d}^\\star$$ | 0.5 - 1.5 | \n",
    "$$\\tau$$        | $$\\frac{1}{wk_x}$$ | [s]\n",
    "$$w$$           | $$6.25$$  | [m/s]\n",
    "$$k_x$$         | $$0.16$$  | [veh/km]\n",
    "$$u_i$$         | $$25$$    | [m/s]\n",
    "\n",
    "\n",
    "$\\star$: ${C_d}$ although is presented as parameter is a coefficient that changes according to the intervehicle distance. For the moment we have not considered the model but we will introduce this further in the system. \n",
    "\n",
    "Please follow step by step variable definition for more detail into simulations. Let define in this case the parameters `M`, `A`, `W`,`K_X` and import the class `PlatoonDyn` from the submodule `vplatoon.carfollow`\n",
    "\n",
    "Creating the environment for this notebook "
   ]
  },
  {
   "cell_type": "code",
   "execution_count": 10,
   "metadata": {},
   "outputs": [],
   "source": [
    "from bokeh.plotting import figure\n",
    "from vplatoon.carfollow import VehiclePlatoon\n",
    "import numpy as np"
   ]
  },
  {
   "cell_type": "code",
   "execution_count": 12,
   "metadata": {},
   "outputs": [],
   "source": [
    "d1 = VehiclePlatoon(0,25,0,\"HDV\")\n",
    "\n",
    "u = np.concatenate([np.ones(10),np.ones(30)])\n",
    "\n",
    "for ctr in u:\n",
    "    d1(ctr)"
   ]
  },
  {
   "cell_type": "code",
   "execution_count": 13,
   "metadata": {},
   "outputs": [
    {
     "data": {
      "text/html": [
       "\n",
       "\n",
       "\n",
       "\n",
       "\n",
       "\n",
       "  <div class=\"bk-root\" id=\"56faae31-8351-4dab-85d4-a10f94da099d\" data-root-id=\"1078\"></div>\n"
      ]
     },
     "metadata": {},
     "output_type": "display_data"
    },
    {
     "data": {
      "application/javascript": [
       "(function(root) {\n",
       "  function embed_document(root) {\n",
       "    \n",
       "  var docs_json = {\"01101eb7-cb7c-4644-b8aa-27f1856a14af\":{\"roots\":{\"references\":[{\"attributes\":{\"below\":[{\"id\":\"1087\",\"type\":\"LinearAxis\"}],\"center\":[{\"id\":\"1091\",\"type\":\"Grid\"},{\"id\":\"1096\",\"type\":\"Grid\"}],\"left\":[{\"id\":\"1092\",\"type\":\"LinearAxis\"}],\"renderers\":[{\"id\":\"1113\",\"type\":\"GlyphRenderer\"}],\"title\":{\"id\":\"1122\",\"type\":\"Title\"},\"toolbar\":{\"id\":\"1103\",\"type\":\"Toolbar\"},\"x_range\":{\"id\":\"1079\",\"type\":\"DataRange1d\"},\"x_scale\":{\"id\":\"1083\",\"type\":\"LinearScale\"},\"y_range\":{\"id\":\"1081\",\"type\":\"DataRange1d\"},\"y_scale\":{\"id\":\"1085\",\"type\":\"LinearScale\"}},\"id\":\"1078\",\"subtype\":\"Figure\",\"type\":\"Plot\"},{\"attributes\":{\"active_drag\":\"auto\",\"active_inspect\":\"auto\",\"active_multi\":null,\"active_scroll\":\"auto\",\"active_tap\":\"auto\",\"tools\":[{\"id\":\"1097\",\"type\":\"PanTool\"},{\"id\":\"1098\",\"type\":\"WheelZoomTool\"},{\"id\":\"1099\",\"type\":\"BoxZoomTool\"},{\"id\":\"1100\",\"type\":\"SaveTool\"},{\"id\":\"1101\",\"type\":\"ResetTool\"},{\"id\":\"1102\",\"type\":\"HelpTool\"}]},\"id\":\"1103\",\"type\":\"Toolbar\"},{\"attributes\":{},\"id\":\"1097\",\"type\":\"PanTool\"},{\"attributes\":{\"line_color\":\"#1f77b4\",\"x\":{\"field\":\"x\"},\"y\":{\"field\":\"y\"}},\"id\":\"1111\",\"type\":\"Line\"},{\"attributes\":{},\"id\":\"1098\",\"type\":\"WheelZoomTool\"},{\"attributes\":{},\"id\":\"1130\",\"type\":\"Selection\"},{\"attributes\":{},\"id\":\"1083\",\"type\":\"LinearScale\"},{\"attributes\":{\"data_source\":{\"id\":\"1110\",\"type\":\"ColumnDataSource\"},\"glyph\":{\"id\":\"1111\",\"type\":\"Line\"},\"hover_glyph\":null,\"muted_glyph\":null,\"nonselection_glyph\":{\"id\":\"1112\",\"type\":\"Line\"},\"selection_glyph\":null,\"view\":{\"id\":\"1114\",\"type\":\"CDSView\"}},\"id\":\"1113\",\"type\":\"GlyphRenderer\"},{\"attributes\":{\"overlay\":{\"id\":\"1128\",\"type\":\"BoxAnnotation\"}},\"id\":\"1099\",\"type\":\"BoxZoomTool\"},{\"attributes\":{\"callback\":null},\"id\":\"1079\",\"type\":\"DataRange1d\"},{\"attributes\":{\"callback\":null},\"id\":\"1081\",\"type\":\"DataRange1d\"},{\"attributes\":{},\"id\":\"1100\",\"type\":\"SaveTool\"},{\"attributes\":{},\"id\":\"1126\",\"type\":\"BasicTickFormatter\"},{\"attributes\":{},\"id\":\"1101\",\"type\":\"ResetTool\"},{\"attributes\":{},\"id\":\"1093\",\"type\":\"BasicTicker\"},{\"attributes\":{\"formatter\":{\"id\":\"1124\",\"type\":\"BasicTickFormatter\"},\"ticker\":{\"id\":\"1088\",\"type\":\"BasicTicker\"}},\"id\":\"1087\",\"type\":\"LinearAxis\"},{\"attributes\":{},\"id\":\"1085\",\"type\":\"LinearScale\"},{\"attributes\":{},\"id\":\"1102\",\"type\":\"HelpTool\"},{\"attributes\":{\"bottom_units\":\"screen\",\"fill_alpha\":{\"value\":0.5},\"fill_color\":{\"value\":\"lightgrey\"},\"left_units\":\"screen\",\"level\":\"overlay\",\"line_alpha\":{\"value\":1.0},\"line_color\":{\"value\":\"black\"},\"line_dash\":[4,4],\"line_width\":{\"value\":2},\"render_mode\":\"css\",\"right_units\":\"screen\",\"top_units\":\"screen\"},\"id\":\"1128\",\"type\":\"BoxAnnotation\"},{\"attributes\":{},\"id\":\"1129\",\"type\":\"UnionRenderers\"},{\"attributes\":{},\"id\":\"1088\",\"type\":\"BasicTicker\"},{\"attributes\":{\"source\":{\"id\":\"1110\",\"type\":\"ColumnDataSource\"}},\"id\":\"1114\",\"type\":\"CDSView\"},{\"attributes\":{\"ticker\":{\"id\":\"1088\",\"type\":\"BasicTicker\"}},\"id\":\"1091\",\"type\":\"Grid\"},{\"attributes\":{\"dimension\":1,\"ticker\":{\"id\":\"1093\",\"type\":\"BasicTicker\"}},\"id\":\"1096\",\"type\":\"Grid\"},{\"attributes\":{\"formatter\":{\"id\":\"1126\",\"type\":\"BasicTickFormatter\"},\"ticker\":{\"id\":\"1093\",\"type\":\"BasicTicker\"}},\"id\":\"1092\",\"type\":\"LinearAxis\"},{\"attributes\":{},\"id\":\"1124\",\"type\":\"BasicTickFormatter\"},{\"attributes\":{\"callback\":null,\"data\":{\"x\":[0,1,2,3,4,5,6,7,8,9,10,11,12,13,14,15,16,17,18,19,20,21,22,23,24,25,26,27,28,29,30,31,32,33,34,35,36,37,38,39,40],\"y\":[0,0.012345679012345678,0.04526748971193416,0.10013717421124829,0.17329675354366714,0.25864959609815574,0.349692628156277,0.44073566021439825,0.5274433097935614,0.6069253219077941,0.6775759993426678,0.7388065864528914,0.7907598118797481,0.8340541664021286,0.8695777393435691,0.8983349174390207,0.9213406599153822,0.9395535393758347,0.9538381507173663,0.9649484039830019,0.9735247398371767,0.9800999306587108,0.9851095998560702,0.9889048037934636,0.9917649574854124,0.9939100727543737,0.9955117588218649,0.996702756154102,0.9975849764002036,0.9982361389628023,0.998715155100806,0.9990664336020085,0.9993232823985869,0.9995105679794254,0.9996467756745806,0.999745593022046,0.999817117959259,0.9998687748583575,0.9999060050559059,0.9999327846716863,0.9999520110625031]},\"selected\":{\"id\":\"1130\",\"type\":\"Selection\"},\"selection_policy\":{\"id\":\"1129\",\"type\":\"UnionRenderers\"}},\"id\":\"1110\",\"type\":\"ColumnDataSource\"},{\"attributes\":{\"text\":\"\"},\"id\":\"1122\",\"type\":\"Title\"},{\"attributes\":{\"line_alpha\":0.1,\"line_color\":\"#1f77b4\",\"x\":{\"field\":\"x\"},\"y\":{\"field\":\"y\"}},\"id\":\"1112\",\"type\":\"Line\"}],\"root_ids\":[\"1078\"]},\"title\":\"Bokeh Application\",\"version\":\"1.4.0\"}};\n",
       "  var render_items = [{\"docid\":\"01101eb7-cb7c-4644-b8aa-27f1856a14af\",\"roots\":{\"1078\":\"56faae31-8351-4dab-85d4-a10f94da099d\"}}];\n",
       "  root.Bokeh.embed.embed_items_notebook(docs_json, render_items);\n",
       "\n",
       "  }\n",
       "  if (root.Bokeh !== undefined) {\n",
       "    embed_document(root);\n",
       "  } else {\n",
       "    var attempts = 0;\n",
       "    var timer = setInterval(function(root) {\n",
       "      if (root.Bokeh !== undefined) {\n",
       "        clearInterval(timer);\n",
       "        embed_document(root);\n",
       "      } else {\n",
       "        attempts++;\n",
       "        if (attempts > 100) {\n",
       "          clearInterval(timer);\n",
       "          console.log(\"Bokeh: ERROR: Unable to run BokehJS code because BokehJS library is missing\");\n",
       "        }\n",
       "      }\n",
       "    }, 10, root)\n",
       "  }\n",
       "})(window);"
      ],
      "application/vnd.bokehjs_exec.v0+json": ""
     },
     "metadata": {
      "application/vnd.bokehjs_exec.v0+json": {
       "id": "1078"
      }
     },
     "output_type": "display_data"
    }
   ],
   "source": [
    "p = figure()\n",
    "p.line(np.arange(len(d1.a)),d1.a)\n",
    "\n",
    "\n",
    "# len(g2.x)\n",
    "show(p)"
   ]
  },
  {
   "cell_type": "code",
   "execution_count": 12,
   "metadata": {},
   "outputs": [
    {
     "ename": "TypeError",
     "evalue": "__init__() got an unexpected keyword argument 'x0'",
     "output_type": "error",
     "traceback": [
      "\u001b[0;31m---------------------------------------------------------------------------\u001b[0m",
      "\u001b[0;31mTypeError\u001b[0m                                 Traceback (most recent call last)",
      "\u001b[0;32m<ipython-input-12-8bdf7db16307>\u001b[0m in \u001b[0;36m<module>\u001b[0;34m\u001b[0m\n\u001b[1;32m      8\u001b[0m \u001b[0mRegularVehicle\u001b[0m\u001b[0;34m.\u001b[0m\u001b[0mreset\u001b[0m\u001b[0;34m(\u001b[0m\u001b[0;34m)\u001b[0m\u001b[0;34m\u001b[0m\u001b[0;34m\u001b[0m\u001b[0m\n\u001b[1;32m      9\u001b[0m \u001b[0;32mfor\u001b[0m \u001b[0mx0\u001b[0m\u001b[0;34m,\u001b[0m \u001b[0mv0\u001b[0m\u001b[0;34m,\u001b[0m \u001b[0mvtype\u001b[0m \u001b[0;32min\u001b[0m \u001b[0mzip\u001b[0m\u001b[0;34m(\u001b[0m\u001b[0mX0\u001b[0m\u001b[0;34m,\u001b[0m \u001b[0mV0\u001b[0m\u001b[0;34m,\u001b[0m \u001b[0mV_CLASS\u001b[0m\u001b[0;34m)\u001b[0m\u001b[0;34m:\u001b[0m\u001b[0;34m\u001b[0m\u001b[0;34m\u001b[0m\u001b[0m\n\u001b[0;32m---> 10\u001b[0;31m     \u001b[0mveh_list\u001b[0m\u001b[0;34m.\u001b[0m\u001b[0mappend\u001b[0m\u001b[0;34m(\u001b[0m\u001b[0mRegularVehicle\u001b[0m \u001b[0;34m(\u001b[0m\u001b[0mx0\u001b[0m\u001b[0;34m=\u001b[0m\u001b[0mx0\u001b[0m\u001b[0;34m,\u001b[0m \u001b[0mv0\u001b[0m\u001b[0;34m=\u001b[0m\u001b[0mv0\u001b[0m\u001b[0;34m,\u001b[0m \u001b[0mveh_type\u001b[0m\u001b[0;34m=\u001b[0m\u001b[0mvtype\u001b[0m\u001b[0;34m)\u001b[0m\u001b[0;34m)\u001b[0m\u001b[0;34m\u001b[0m\u001b[0;34m\u001b[0m\u001b[0m\n\u001b[0m\u001b[1;32m     11\u001b[0m \u001b[0mprint\u001b[0m\u001b[0;34m(\u001b[0m\u001b[0;34mf\"List of vehicles: {veh_list}\"\u001b[0m\u001b[0;34m)\u001b[0m\u001b[0;34m\u001b[0m\u001b[0;34m\u001b[0m\u001b[0m\n",
      "\u001b[0;31mTypeError\u001b[0m: __init__() got an unexpected keyword argument 'x0'"
     ]
    }
   ],
   "source": [
    "N_VEH = 2 # Number of vehicles \n",
    "X0 = np.array([25,0])\n",
    "V0 = np.ones(N_VEH) * f.u\n",
    "A0 = np.zeros(N_VEH)\n",
    "V_CLASS = [\"HDV\", \"HDV\"]\n",
    "\n",
    "veh_list = []\n",
    "RegularVehicle.reset()\n",
    "for x0, v0, vtype in zip(X0, V0, V_CLASS):\n",
    "    veh_list.append(RegularVehicle (x0=x0, v0=v0, veh_type=vtype))\n",
    "print(f\"List of vehicles: {veh_list}\")"
   ]
  },
  {
   "cell_type": "raw",
   "metadata": {},
   "source": [
    "!conda env create -f environment.yaml"
   ]
  },
  {
   "cell_type": "raw",
   "metadata": {},
   "source": [
    "import sys \n",
    "sys.path.append(\"vplatoon\")"
   ]
  },
  {
   "cell_type": "code",
   "execution_count": 2,
   "metadata": {},
   "outputs": [],
   "source": [
    "from vplatoon.carfollow import OpenLoop"
   ]
  },
  {
   "cell_type": "markdown",
   "metadata": {},
   "source": [
    "## Understanding traffic models, capacity\n",
    "\n",
    "Initially, consider a set the fundamental diagram of a simple traffic model. The regular fundamental diagram is given by the following figure: \n",
    "\n",
    "![](img/fund-diag.png)\n",
    "\n",
    "The parameters in this diagram represent the density of vehicles $\\kappa$ [veh/m], and the average flow $Q(\\kappa)$. The objective of this diagram is to describe how the concentration of vehicles and the space headway among them affects the flow of vehicles. \n",
    "\n",
    "In this case, the relationship between the $\\kappa$ and the average spacing of vehicles is:\n",
    "$$\\frac{1}{s_0 + L_{\\text{avg}}}=\\kappa_x$$  \n",
    "In this definition $s_0$ represents the minimum spacing allowed for vehicles and $L_{\\text{avg}}$ represents the average length of a vehicle in the network. \n",
    "\n",
    "In the figure $u$ denotes the maximum speed limit in the highway and $w$ denotes the speed at which congestion is propagated. \n",
    "\n",
    "Let suppose a value of speed limit of *90* [Km/h] and a minimum spacing of 2[m]\n",
    "\n",
    "**Q1:** <span style =\"color:darkblue\">\n",
    "Design and write a python function that computes the flow in terms of the density and the parameters given as entries `fundamental_diagram(u,w,k)` find the maximum flow for $u=25$ [m/s]. Consider that $L_{\\text{avg}}=4.25$ [m] and the minimum spacing $s_0 = 2$ [m]. Consider a value of $w=-6.25$[m/s]. Once created provide a plot of the function by using the libraries `numpy` and `matplotlib` \n",
    "</span>"
   ]
  },
  {
   "cell_type": "code",
   "execution_count": 5,
   "metadata": {},
   "outputs": [],
   "source": []
  },
  {
   "cell_type": "markdown",
   "metadata": {},
   "source": [
    "**Q2:**: <span style =\"color:darkblue\">\n",
    "Determine the maximum value of flow for this case and the corresponding density at which this value occurs\n",
    "</span>    "
   ]
  },
  {
   "cell_type": "markdown",
   "metadata": {},
   "source": [
    "## Setting up initial conditions for a platoon of two vehicles \n",
    "\n",
    "Imagine that vehicles are going to be split in an homogeneous way, \n",
    "\n",
    "**Q2:**"
   ]
  },
  {
   "cell_type": "markdown",
   "metadata": {},
   "source": [
    "## Open loop for vehicle platooning \n",
    "\n",
    "**Q3:**"
   ]
  },
  {
   "cell_type": "markdown",
   "metadata": {},
   "source": [
    "## Closin loop for vehicle platooning\n",
    "**Q4:**"
   ]
  },
  {
   "cell_type": "markdown",
   "metadata": {},
   "source": [
    "## Calibrating a consumption model \n",
    "\n",
    "**Q5:**"
   ]
  },
  {
   "cell_type": "markdown",
   "metadata": {},
   "source": [
    "## Estimating emissions for a coupled model \n",
    "\n",
    "**Q6:**"
   ]
  },
  {
   "cell_type": "markdown",
   "metadata": {},
   "source": [
    "## Estimating cumulated emissions \n",
    "**Q7:**"
   ]
  },
  {
   "cell_type": "markdown",
   "metadata": {},
   "source": [
    "## Defining the \n",
    "**Q8**:"
   ]
  },
  {
   "cell_type": "markdown",
   "metadata": {},
   "source": [
    "A. Ladino"
   ]
  }
 ],
 "metadata": {
  "file_extension": ".py",
  "kernelspec": {
   "display_name": "Python [conda env:root] *",
   "language": "python",
   "name": "conda-root-py"
  },
  "language_info": {
   "codemirror_mode": {
    "name": "ipython",
    "version": 3
   },
   "file_extension": ".py",
   "mimetype": "text/x-python",
   "name": "python",
   "nbconvert_exporter": "python",
   "pygments_lexer": "ipython3",
   "version": "3.7.5"
  },
  "mimetype": "text/x-python",
  "name": "python",
  "npconvert_exporter": "python",
  "pygments_lexer": "ipython3",
  "version": 3
 },
 "nbformat": 4,
 "nbformat_minor": 4
}
